{
  "nbformat": 4,
  "nbformat_minor": 0,
  "metadata": {
    "colab": {
      "provenance": [],
      "toc_visible": true,
      "mount_file_id": "1wLfVSkkyWWTEbiZQ5mM468waTaCuNIYr",
      "authorship_tag": "ABX9TyPxFz6zps1Syx2h0hwEj8BY",
      "include_colab_link": true
    },
    "kernelspec": {
      "name": "python3",
      "display_name": "Python 3"
    },
    "language_info": {
      "name": "python"
    }
  },
  "cells": [
    {
      "cell_type": "markdown",
      "metadata": {
        "id": "view-in-github",
        "colab_type": "text"
      },
      "source": [
        "<a href=\"https://colab.research.google.com/github/ThomasTranGithub/3.24.23.recommenderalgo/blob/main/ProofofConcept.ipynb\" target=\"_parent\"><img src=\"https://colab.research.google.com/assets/colab-badge.svg\" alt=\"Open In Colab\"/></a>"
      ]
    },
    {
      "cell_type": "markdown",
      "source": [
        "# New Section"
      ],
      "metadata": {
        "id": "smIn2ewAmz9C"
      }
    },
    {
      "cell_type": "code",
      "source": [
        "data = pd.read_csv('/content/drive/MyDrive/Colab Notebooks/SampleData.csv')\n",
        "\n",
        "print(data)"
      ],
      "metadata": {
        "colab": {
          "base_uri": "https://localhost:8080/"
        },
        "id": "VTuritlxf7Z5",
        "outputId": "306382b7-4d2e-4fd0-a611-79ba0e835114"
      },
      "execution_count": 42,
      "outputs": [
        {
          "output_type": "stream",
          "name": "stdout",
          "text": [
            "      Region     Incidence    Population  Survival  Patient Pool\n",
            "0         US  3.230000e-06  3.310000e+08      19.4        20.719\n",
            "1         EU  3.500000e-06  4.480000e+08      19.4        30.419\n",
            "2      Japan  3.650000e-07  1.260000e+08      32.1         1.477\n",
            "3      China  2.620000e-07  1.440000e+09      29.2        11.040\n",
            "4     Taiwan  1.490000e-07  2.380000e+07      30.0         8.109\n",
            "5     Brazil  2.370000e-06  2.130000e+08      19.0         9.592\n",
            "6  Argentina  2.370000e-06  4.520000e+07      19.0         2.036\n"
          ]
        }
      ]
    },
    {
      "cell_type": "code",
      "execution_count": 54,
      "metadata": {
        "colab": {
          "base_uri": "https://localhost:8080/"
        },
        "id": "VbPptrYVTegB",
        "outputId": "79254c76-1919-4da1-efc1-bc14b2622820"
      },
      "outputs": [
        {
          "output_type": "stream",
          "name": "stdout",
          "text": [
            "Series([], Name: Population, dtype: float64) 1    448000000.0\n",
            "Name: Population, dtype: float64 2    126000000.0\n",
            "Name: Population, dtype: float64 5    213000000.0\n",
            "Name: Population, dtype: float64\n",
            "Series([], Name: Incidence, dtype: float64) 1    0.000003\n",
            "Name: Incidence, dtype: float64 2    3.650000e-07\n",
            "Name: Incidence, dtype: float64 5    0.000002\n",
            "Name: Incidence, dtype: float64\n",
            "Series([], dtype: float64) 1    30419.2\n",
            "dtype: float64 2    1476.279\n",
            "dtype: float64 5    9591.39\n",
            "dtype: float64\n"
          ]
        }
      ],
      "source": [
        "from pandas._libs.tslibs.np_datetime import py_td64_to_tdstruct\n",
        "from numpy.core.fromnumeric import ptp\n",
        "#import the libraries\n",
        "\n",
        "import pandas as pd\n",
        "import numpy as np\n",
        "import matplotlib as plt\n",
        "import seaborn as sns\n",
        "\n",
        "#define hard assumptions\n",
        "US = data.loc[data['Region'] == 'U.S.', 'Population']\n",
        "EU = data.loc[data['Region'] == 'EU', 'Population']\n",
        "AS = data.loc[data['Region'] == 'Japan', 'Population']\n",
        "SA = data.loc[data['Region'] == 'Brazil', 'Population']\n",
        "\n",
        "print(US, EU, AS, SA)\n",
        "\n",
        "#define disease specific assumptions Incidence\n",
        "\n",
        "NX1 = data.loc[data['Region'] == 'U.S.', 'Incidence']\n",
        "NX2 = data.loc[data['Region'] == 'EU', 'Incidence']\n",
        "NX3 = data.loc[data['Region'] == 'Japan', 'Incidence']\n",
        "NX4 = data.loc[data['Region'] == 'Brazil', 'Incidence']\n",
        "\n",
        "print(NX1 NX2 NX3 NX4)\n",
        "\n",
        "#define disease specific assumptions Survival\n",
        "\n",
        "SR1 = data.loc[data['Region'] == 'U.S.', 'Survival']\n",
        "SR2 = data.loc[data['Region'] == 'EU', 'Survival']\n",
        "SR3 = data.loc[data['Region'] == 'Japan', 'Survival']\n",
        "SR4 = data.loc[data['Region'] == 'Brazil', 'Survival']\n",
        "\n",
        "\n",
        "#write the functions for patient model\n",
        "\n",
        "pt1 = US * NX1 * SR1\n",
        "pt2 = EU * NX2 * SR2\n",
        "pt3 = AS * NX3 * SR3\n",
        "pt4 = SA * NX4 * SR4\n",
        "\n",
        "print(pt1, pt2, pt3, pt4)\n",
        "\n"
      ]
    },
    {
      "cell_type": "markdown",
      "source": [
        "Measure Definitions\n",
        "Number = The measured or estimated number of people who had an attribute or disease during a specific year.\n",
        "Prevalence = The measured or estimated percentage of people -- weighted to population characteristics – with an attribute or disease during a specific year.\n",
        "Age-adjusted Prevalence = Prevalence (see above) standardized to the age distribution of a specific population, usually the U.S. 2000 standard population.\n",
        "Crude Rate = The measured number of deaths, cases of conditions, diseases or hospitalizations during a specific year – specified as rates per 1,000, per 10,000, per 100,000 or rates per 1,000,000 persons.\n",
        "Age-adjusted Rate = Crude rate (see above) standardized to the age distribution of a specific population, usually the U.S. 2000 standard population.\n",
        "Mean = The measured or estimated mean (average or central value of a discrete set of numbers)—weighted to the population characteristics for an attribute or disease during a specific year.\n",
        "Adjusted Mean = Mean (see above) standardized to the age distribution of a specific population, usually the U.S. 2000 standard population.\n",
        "Packs Sold per Capita = Packs sold per capita per year.\n",
        "CI = 95% Confidence Interval."
      ],
      "metadata": {
        "id": "-WbZoAvPf5-K"
      }
    },
    {
      "cell_type": "markdown",
      "source": [],
      "metadata": {
        "id": "F1KV477V16jT"
      }
    },
    {
      "cell_type": "code",
      "source": [
        "df = pd.DataFrame(data)\n",
        "\n",
        "# Prompt the user to select a country or row\n",
        "user_input = input(\"Enter 'country' or 'row' to select: \")\n",
        "\n",
        "if user_input.lower() == 'Region':\n",
        "    # Prompt the user to select a country\n",
        "    country_input = input(\"Enter the name of the country: \")\n",
        "    selected_row = df[df['Region'] == country_input]\n",
        "else:\n",
        "    # Prompt the user to select a row number\n",
        "    row_input = int(input(\"Enter the row number: \"))\n",
        "    selected_row = df.iloc[row_input]\n",
        "\n",
        "# Prompt the user to select the columns\n",
        "columns_input = input(\"Enter the column names (comma-separated): \")\n",
        "selected_columns = columns_input.split(',')\n",
        "\n",
        "# Extract the selected row and columns\n",
        "result = selected_row[selected_columns]\n",
        "print(result)\n",
        "\n",
        "\n",
        "\n"
      ],
      "metadata": {
        "colab": {
          "base_uri": "https://localhost:8080/"
        },
        "id": "QmzOFPq217I7",
        "outputId": "a138d3a5-c19f-4798-b606-681a678bede7"
      },
      "execution_count": 53,
      "outputs": [
        {
          "output_type": "stream",
          "name": "stdout",
          "text": [
            "Enter 'country' or 'row' to select: US\n",
            "Enter the row number: 0\n",
            "Enter the column names (comma-separated): Population\n",
            "Population    331000000.0\n",
            "Name: 0, dtype: object\n"
          ]
        }
      ]
    }
  ]
}